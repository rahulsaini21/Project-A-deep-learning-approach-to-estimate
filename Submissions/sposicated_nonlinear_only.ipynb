{
  "cells": [
    {
      "cell_type": "markdown",
      "metadata": {
        "id": "p6_aKKdqz9Qm"
      },
      "source": [
        "Importing necessary libraries"
      ]
    },
    {
      "cell_type": "code",
      "execution_count": 1,
      "metadata": {
        "id": "Sq3149GMkWHv"
      },
      "outputs": [],
      "source": [
        "# -*- coding: utf-8 -*from keras.models import Sequential\n",
        "import numpy as np\n",
        "from numpy.random import RandomState\n",
        "import torch\n",
        "import scipy.io as sio\n",
        "import time\n",
        "# from matlab import eng"
      ]
    },
    {
      "cell_type": "code",
      "execution_count": 2,
      "metadata": {
        "id": "gfvDcThH-V_1"
      },
      "outputs": [],
      "source": [
        "from torch.utils.data import DataLoader\n",
        "from torch.utils.data.dataset import TensorDataset\n",
        "from torch.utils.data import random_split\n",
        "import torch.nn as nn\n",
        "import torch.nn.functional as F"
      ]
    },
    {
      "cell_type": "markdown",
      "metadata": {
        "id": "dXT3YDXw3azt"
      },
      "source": [
        "Loadind stress and shape data from matlab variablle."
      ]
    },
    {
      "cell_type": "code",
      "execution_count": 3,
      "metadata": {
        "id": "9ZAjeN9k2A4n"
      },
      "outputs": [],
      "source": [
        "ShapeDataFile = '/content/drive/MyDrive/Colab Notebooks/Project Data/ShapeData.mat'\n",
        "StressDataFile = '/content/drive/MyDrive/Colab Notebooks/Project Data/StressData.mat'\n",
        "MatData_shape=sio.loadmat(ShapeDataFile)\n",
        "MatData_stress=sio.loadmat(StressDataFile)"
      ]
    },
    {
      "cell_type": "markdown",
      "metadata": {
        "id": "WhYNdP4D_TV5"
      },
      "source": [
        "Creating the tensor of shape and stress data"
      ]
    },
    {
      "cell_type": "code",
      "execution_count": 4,
      "metadata": {
        "id": "iDcU0_bv3lx5"
      },
      "outputs": [],
      "source": [
        "stress_np = np.array(MatData_stress['StressData'])\n",
        "shape_np = np.array(MatData_shape['ShapeData'])\n",
        "# arraning the stress data for y\n",
        "stress_S11 = stress_np[0,:,:]\n",
        "stress_S22 = stress_np[1,:,:]\n",
        "stress_S12 = stress_np[3,:,:]\n",
        "stress_all = np.concatenate([stress_S11,stress_S22,stress_S12], axis=0)\n",
        "# getting the tensor\n",
        "shape_tensor = torch.from_numpy(shape_np)\n",
        "stress_tensor = torch.from_numpy(stress_all)\n",
        "dataset = TensorDataset(shape_tensor.t().float(), stress_tensor.t().float())"
      ]
    },
    {
      "cell_type": "markdown",
      "metadata": {
        "id": "gGxftKNpGdQu"
      },
      "source": [
        "`A` is the predicted stress and `B` is the given stress.\n",
        "\n",
        "`ComputeError` returns four array `MAE`, `NMAE`, `AE` and `APE` contaning respective errors for each test element."
      ]
    },
    {
      "cell_type": "code",
      "execution_count": 5,
      "metadata": {
        "id": "x5UCjIYKIXv1"
      },
      "outputs": [],
      "source": [
        "#%% S11/S22/S12: 5000xN, S_all=[S11; S22; S12]\n",
        "def ComputeVonMisesStress_all(S_all):\n",
        "\n",
        "    S11_all=S_all[:, 0:5000]\n",
        "    S22_all=S_all[:, 5000:10000]\n",
        "    S12_all=S_all[:, 10000:15000]\n",
        "\n",
        "    VM_all = S11_all**2 + S22_all**2 - S11_all*S22_all +3*S12_all**2\n",
        "    VM_all = torch.sqrt(VM_all)\n",
        "\n",
        "    return S11_all, S22_all, S12_all, VM_all;\n"
      ]
    },
    {
      "cell_type": "code",
      "execution_count": 6,
      "metadata": {
        "id": "CUDMXbBHF1tL"
      },
      "outputs": [],
      "source": [
        "def ComputeError(A, B):\n",
        "    MAE=np.zeros(A.shape[1])\n",
        "    NMAE=np.zeros(A.shape[1])\n",
        "    AE=np.zeros(A.shape[1])\n",
        "    APE=np.zeros(A.shape[1])\n",
        "    for n in range(0, A.shape[1]):\n",
        "        a=A[:,n]\n",
        "        b=B[:,n]\n",
        "        c=torch.absolute(a-b)\n",
        "        a_abs=torch.absolute(a)\n",
        "        b_abs=torch.absolute(b)\n",
        "        a_max=torch.max(a_abs)\n",
        "        b_max=torch.max(b_abs)\n",
        "        MAE[n]=torch.mean(c)\n",
        "        NMAE[n]=MAE[n]/a_max\n",
        "        AE[n]=torch.absolute(a_max-b_max)\n",
        "        APE[n]=AE[n]/a_max\n",
        "    return MAE, NMAE, AE, APE\n"
      ]
    },
    {
      "cell_type": "code",
      "execution_count": 7,
      "metadata": {
        "id": "IDgydpEYXlpH"
      },
      "outputs": [],
      "source": [
        "class ErrorComputer():\n",
        "    \"\"\"Wrap a dataloader to move data to a device\"\"\"\n",
        "    def __init__(self, train_loader, model):\n",
        "        self.train_loader = train_loader\n",
        "        self.MAE_S11 = []\n",
        "        self.NMAE_S11 = []\n",
        "        self.AE_S11 = []\n",
        "        self.APE_S11 = []\n",
        "        self.MAE_S22 = []\n",
        "        self.NMAE_S22 = []\n",
        "        self.AE_S22 = []\n",
        "        self.APE_S22 =  []\n",
        "        self.MAE_S12 = []\n",
        "        self.NMAE_S12 = []\n",
        "        self.AE_S12 = []\n",
        "        self.APE_S12 = []\n",
        "        self.MAE_VM = []\n",
        "        self.NMAE_VM = []\n",
        "        self.AE_VM = []\n",
        "        self.APE_VM = []\n",
        "                \n",
        "    def compute(self):\n",
        "        \"\"\"Yield a batch of data after moving it to device\"\"\"\n",
        "        for batch in self.train_loader:\n",
        "            shape, stress = batch\n",
        "            pred_stress = model(shape)\n",
        "            [pred_S11, pred_S22, pred_S12, pred_VM] = ComputeVonMisesStress_all(pred_stress)\n",
        "            [S11, S22, S12, VM] = ComputeVonMisesStress_all(stress)\n",
        "            [MAE_S11, NMAE_S11, AE_S11, APE_S11] = ComputeError(pred_S11, S11)\n",
        "            [MAE_S22, NMAE_S22, AE_S22, APE_S22] = ComputeError(pred_S22, S22)\n",
        "            [MAE_S12, NMAE_S12, AE_S12, APE_S12] = ComputeError(pred_S12, S12)\n",
        "            [MAE_VM, NMAE_VM, AE_VM, APE_VM] = ComputeError(pred_VM, VM)\n",
        "            self.MAE_S11.append(MAE_S11)\n",
        "            self.NMAE_S11.append(NMAE_S11)\n",
        "            self.AE_S11.append(AE_S11)\n",
        "            self.APE_S11.append(APE_S11)\n",
        "            self.MAE_S22.append(MAE_S22)\n",
        "            self.NMAE_S22.append(NMAE_S22)\n",
        "            self.AE_S22.append(AE_S22)\n",
        "            self.APE_S22.append(APE_S22)\n",
        "            self.MAE_S12.append(MAE_S12)\n",
        "            self.NMAE_S12.append(NMAE_S12)\n",
        "            self.AE_S12.append(AE_S12)\n",
        "            self.APE_S12.append(APE_S12)\n",
        "            self.MAE_VM.append(MAE_VM)\n",
        "            self.NMAE_VM.append(NMAE_VM)\n",
        "            self.AE_VM.append(AE_VM)\n",
        "            self.APE_VM.append(APE_VM)\n",
        "\n",
        "    def print(self):\n",
        "        print_MAE_mean = 'MAE mean\\t{:.4f}\\t\\t{:.4f}\\t\\t{:.4f}\\t\\t{:.4f}'\n",
        "        print_MAE_std = 'MAE std\\t\\t{:.4f}\\t\\t{:.4f}\\t\\t{:.4f}\\t\\t{:.4f}'\n",
        "        print_NMAE_mean = 'NMAE mean\\t{:.4f}\\t\\t{:.4f}\\t\\t{:.4f}\\t\\t{:.4f}'\n",
        "        print_NMAE_std = 'NMAE std\\t{:.4f}\\t\\t{:.4f}\\t\\t{:.4f}\\t\\t{:.4f}'\n",
        "        print_AE_mean = 'AE mean\\t\\t{:.4f}\\t\\t{:.4f}\\t\\t{:.4f}\\t\\t{:.4f}'\n",
        "        print_AE_std = 'AE std\\t\\t{:.4f}\\t\\t{:.4f}\\t\\t{:.4f}\\t\\t{:.4f}'\n",
        "        print_APE_mean = 'APE mean\\t{:.4f}\\t\\t{:.4f}\\t\\t{:.4f}\\t\\t{:.4f}'\n",
        "        print_APE_std = 'APE std\\t\\t{:.4f}\\t\\t{:.4f}\\t\\t{:.4f}\\t\\t{:.4f}'\n",
        "        print('Error\\t\\tS11\\t\\tS22\\t\\tS12\\t\\tVM')\n",
        "        print('-------------------------------------------------------------------------')\n",
        "        print(print_MAE_mean.format(np.mean(self.MAE_S11), np.mean(self.MAE_S22), np.mean(self.MAE_S12), np.mean(self.MAE_VM)))\n",
        "        print(print_MAE_std.format(np.std(self.MAE_S11), np.std(self.MAE_S22), np.std(self.MAE_S12), np.std(self.MAE_VM)))\n",
        "        print(print_NMAE_mean.format(np.mean(self.NMAE_S11), np.mean(self.NMAE_S22), np.mean(self.NMAE_S12), np.mean(self.NMAE_VM)))\n",
        "        print(print_NMAE_std.format(np.std(self.NMAE_S11), np.std(self.NMAE_S22), np.std(self.NMAE_S12), np.std(self.NMAE_VM)))\n",
        "        print(print_AE_mean.format(np.mean(self.AE_S11), np.mean(self.AE_S22), np.mean(self.AE_S12), np.mean(self.AE_VM)))\n",
        "        print(print_AE_std.format(np.std(self.AE_S11), np.std(self.AE_S22), np.std(self.AE_S12), np.std(self.AE_VM)))\n",
        "        print(print_APE_mean.format(np.mean(self.APE_S11), np.mean(self.APE_S22), np.mean(self.APE_S12), np.mean(self.APE_VM)))\n",
        "        print(print_APE_std.format(np.std(self.APE_S11), np.std(self.APE_S22), np.std(self.APE_S12), np.std(self.APE_VM)))"
      ]
    },
    {
      "cell_type": "code",
      "execution_count": 8,
      "metadata": {
        "colab": {
          "base_uri": "https://localhost:8080/",
          "height": 140
        },
        "id": "-dszKUbf4n0p",
        "outputId": "879bdcdf-b212-4123-d6cc-e6250085ad68"
      },
      "outputs": [
        {
          "data": {
            "application/vnd.google.colaboratory.intrinsic+json": {
              "type": "string"
            },
            "text/plain": [
              "\"def printError(pred_stress, stress):\\n    [pred_S11, pred_S22, pred_S12, pred_VM] = ComputeVonMisesStress_all(pred_stress)\\n    [S11, S22, S12, VM] = ComputeVonMisesStress_all(stress)\\n    [MAE_S11, NMAE_S11, AE_S11, APE_S11] = ComputeError(pred_S11, S11)\\n    [MAE_S22, NMAE_S22, AE_S22, APE_S22] = ComputeError(pred_S22, S22)\\n    [MAE_S12, NMAE_S12, AE_S12, APE_S12] = ComputeError(pred_S12, S12)\\n    [MAE_VM, NMAE_VM, AE_VM, APE_VM] = ComputeError(pred_VM, VM)\\n    print_MAE_mean = 'MAE mean\\t{:.4f}\\t\\t{:.4f}\\t\\t{:.4f}\\t\\t{:.4f}'\\n    print_MAE_std = 'MAE std\\t\\t{:.4f}\\t\\t{:.4f}\\t\\t{:.4f}\\t\\t{:.4f}'\\n    print_NMAE_mean = 'NMAE mean\\t{:.4f}\\t\\t{:.4f}\\t\\t{:.4f}\\t\\t{:.4f}'\\n    print_NMAE_std = 'NMAE std\\t{:.4f}\\t\\t{:.4f}\\t\\t{:.4f}\\t\\t{:.4f}'\\n    print_AE_mean = 'AE mean\\t\\t{:.4f}\\t\\t{:.4f}\\t\\t{:.4f}\\t\\t{:.4f}'\\n    print_AE_std = 'AE std\\t\\t{:.4f}\\t\\t{:.4f}\\t\\t{:.4f}\\t\\t{:.4f}'\\n    print_APE_mean = 'APE mean\\t{:.4f}\\t\\t{:.4f}\\t\\t{:.4f}\\t\\t{:.4f}'\\n    print_APE_std = 'APE std\\t\\t{:.4f}\\t\\t{:.4f}\\t\\t{:.4f}\\t\\t{:.4f}'\\n    print('Error\\t\\tS11\\t\\tS22\\t\\tS12\\t\\tVM')\\n    print('-------------------------------------------------------------------------')\\n    print(print_MAE_mean.format(np.mean(MAE_S11), np.mean(MAE_S22), np.mean(MAE_S12), np.mean(MAE_VM)))\\n    print(print_MAE_std.format(np.std(MAE_S11), np.std(MAE_S22), np.std(MAE_S12), np.std(MAE_VM)))\\n    print(print_NMAE_mean.format(np.mean(NMAE_S11), np.mean(NMAE_S22), np.mean(NMAE_S12), np.mean(NMAE_VM)))\\n    print(print_NMAE_std.format(np.std(NMAE_S11), np.std(NMAE_S22), np.std(NMAE_S12), np.std(NMAE_VM)))\\n    print(print_AE_mean.format(np.mean(AE_S11), np.mean(AE_S22), np.mean(AE_S12), np.mean(AE_VM)))\\n    print(print_AE_std.format(np.std(AE_S11), np.std(AE_S22), np.std(AE_S12), np.std(AE_VM)))\\n    print(print_APE_mean.format(np.mean(APE_S11), np.mean(APE_S22), np.mean(APE_S12), np.mean(APE_VM)))\\n    print(print_APE_std.format(np.std(APE_S11), np.std(APE_S22), np.std(APE_S12), np.std(APE_VM)))\""
            ]
          },
          "execution_count": 8,
          "metadata": {},
          "output_type": "execute_result"
        }
      ],
      "source": [
        "\"\"\"def printError(pred_stress, stress):\n",
        "    [pred_S11, pred_S22, pred_S12, pred_VM] = ComputeVonMisesStress_all(pred_stress)\n",
        "    [S11, S22, S12, VM] = ComputeVonMisesStress_all(stress)\n",
        "    [MAE_S11, NMAE_S11, AE_S11, APE_S11] = ComputeError(pred_S11, S11)\n",
        "    [MAE_S22, NMAE_S22, AE_S22, APE_S22] = ComputeError(pred_S22, S22)\n",
        "    [MAE_S12, NMAE_S12, AE_S12, APE_S12] = ComputeError(pred_S12, S12)\n",
        "    [MAE_VM, NMAE_VM, AE_VM, APE_VM] = ComputeError(pred_VM, VM)\n",
        "    print_MAE_mean = 'MAE mean\\t{:.4f}\\t\\t{:.4f}\\t\\t{:.4f}\\t\\t{:.4f}'\n",
        "    print_MAE_std = 'MAE std\\t\\t{:.4f}\\t\\t{:.4f}\\t\\t{:.4f}\\t\\t{:.4f}'\n",
        "    print_NMAE_mean = 'NMAE mean\\t{:.4f}\\t\\t{:.4f}\\t\\t{:.4f}\\t\\t{:.4f}'\n",
        "    print_NMAE_std = 'NMAE std\\t{:.4f}\\t\\t{:.4f}\\t\\t{:.4f}\\t\\t{:.4f}'\n",
        "    print_AE_mean = 'AE mean\\t\\t{:.4f}\\t\\t{:.4f}\\t\\t{:.4f}\\t\\t{:.4f}'\n",
        "    print_AE_std = 'AE std\\t\\t{:.4f}\\t\\t{:.4f}\\t\\t{:.4f}\\t\\t{:.4f}'\n",
        "    print_APE_mean = 'APE mean\\t{:.4f}\\t\\t{:.4f}\\t\\t{:.4f}\\t\\t{:.4f}'\n",
        "    print_APE_std = 'APE std\\t\\t{:.4f}\\t\\t{:.4f}\\t\\t{:.4f}\\t\\t{:.4f}'\n",
        "    print('Error\\t\\tS11\\t\\tS22\\t\\tS12\\t\\tVM')\n",
        "    print('-------------------------------------------------------------------------')\n",
        "    print(print_MAE_mean.format(np.mean(MAE_S11), np.mean(MAE_S22), np.mean(MAE_S12), np.mean(MAE_VM)))\n",
        "    print(print_MAE_std.format(np.std(MAE_S11), np.std(MAE_S22), np.std(MAE_S12), np.std(MAE_VM)))\n",
        "    print(print_NMAE_mean.format(np.mean(NMAE_S11), np.mean(NMAE_S22), np.mean(NMAE_S12), np.mean(NMAE_VM)))\n",
        "    print(print_NMAE_std.format(np.std(NMAE_S11), np.std(NMAE_S22), np.std(NMAE_S12), np.std(NMAE_VM)))\n",
        "    print(print_AE_mean.format(np.mean(AE_S11), np.mean(AE_S22), np.mean(AE_S12), np.mean(AE_VM)))\n",
        "    print(print_AE_std.format(np.std(AE_S11), np.std(AE_S22), np.std(AE_S12), np.std(AE_VM)))\n",
        "    print(print_APE_mean.format(np.mean(APE_S11), np.mean(APE_S22), np.mean(APE_S12), np.mean(APE_VM)))\n",
        "    print(print_APE_std.format(np.std(APE_S11), np.std(APE_S22), np.std(APE_S12), np.std(APE_VM)))\"\"\""
      ]
    },
    {
      "cell_type": "code",
      "execution_count": 9,
      "metadata": {
        "id": "JeXgdLNg0EBa"
      },
      "outputs": [],
      "source": [
        "class NonLinearMapping(nn.Module):\n",
        "    def __init__(self, train_loader):\n",
        "        super().__init__()\n",
        "        self.train_loader = train_loader\n",
        "        self.loss_history_batch = []\n",
        "        self.loss_history = []\n",
        "        self.network = nn.Sequential(\n",
        "            nn.Linear(15000, 128),\n",
        "            nn.ReLU(),\n",
        "            nn.Linear(128, 128),\n",
        "            nn.ReLU(),\n",
        "            nn.Linear(128, 15000))\n",
        "        \n",
        "    def forward(self, xb):\n",
        "        return self.network(xb)\n",
        "    \n",
        "    def training_step(self, train_batch):\n",
        "        shape, stress = train_batch\n",
        "        pred_stress = self(shape)                   \n",
        "        loss = F.mse_loss(pred_stress, stress)\n",
        "        return loss\n",
        "\n",
        "    def train(self, epochs, opt_func=torch.optim.Adam):\n",
        "        self.optimizer = opt_func(self.parameters())\n",
        "\n",
        "        for epoch in range(epochs):\n",
        "\n",
        "            self.loss_history_batch = []\n",
        "            \n",
        "            for batch in self.train_loader:\n",
        "                self.batch = batch\n",
        "                self.optimizer.step(self.closure)\n",
        "\n",
        "            self.loss_history.append(sum(self.loss_history_batch)/len(self.loss_history_batch))\n",
        "            self.epoch_end(epoch,epochs, print_every=250)\n",
        "\n",
        "    def closure(self):\n",
        "        self.optimizer.zero_grad()\n",
        "        loss = self.training_step(self.batch)\n",
        "        self.loss_history_batch.append(loss)\n",
        "        loss.backward()\n",
        "        return loss\n",
        "    \n",
        "    def validation_step(self): \n",
        "        train_Error = ErrorComputer(self.train_loader, self)\n",
        "        train_Error.compute()\n",
        "        train_Error.print()\n",
        "            \n",
        "    def testing_step(self, test_loader):\n",
        "        test_Error = ErrorComputer(test_loader, self)\n",
        "        test_Error.compute()\n",
        "        test_Error.print()\n",
        "\n",
        "    def epoch_end(self, epoch, epochs, print_every=100):\n",
        "        if epoch == 0 or epoch == (epochs - 1) or epoch % print_every == 0 or print_every == 'all':\n",
        "            print(\"Epoch [{}/{}], train_loss: {:.4f}\".format(epoch, epochs, self.loss_history[epoch]))\n",
        "\n",
        "    \n"
      ]
    },
    {
      "cell_type": "code",
      "execution_count": 10,
      "metadata": {
        "colab": {
          "base_uri": "https://localhost:8080/"
        },
        "id": "nlXk-I9ev_Fm",
        "outputId": "41322ea0-dbc4-475c-edbb-39c3aa2a143a"
      },
      "outputs": [
        {
          "name": "stdout",
          "output_type": "stream",
          "text": [
            "For epoch[0/3] :\n",
            "Splitting the dataset into training and testing data set\n",
            "Splitting is done. Time taken = 0.004078714999991462\n",
            "Training the model : \n",
            "Epoch [0/1000], train_loss: 11546.8408\n",
            "Epoch [250/1000], train_loss: 17.0300\n",
            "Epoch [500/1000], train_loss: 9.9392\n",
            "Epoch [750/1000], train_loss: 6.7803\n",
            "Epoch [999/1000], train_loss: 8.7722\n",
            "time taken in trainning the model = 1689.2532805600001\n",
            "Error\t\tS11\t\tS22\t\tS12\t\tVM\n",
            "-------------------------------------------------------------------------\n",
            "MAE mean\t2.1763\t\t1.6337\t\t1.2673\t\t1.9098\n",
            "MAE std\t\t1.3984\t\t0.8883\t\t0.9366\t\t1.2400\n",
            "NMAE mean\t0.0083\t\t0.0127\t\t0.0536\t\t0.0082\n",
            "NMAE std\t0.0035\t\t0.0055\t\t0.0257\t\t0.0033\n",
            "AE mean\t\t2.4427\t\t2.0751\t\t2.2110\t\t2.2724\n",
            "AE std\t\t3.0981\t\t3.4679\t\t3.4168\t\t3.1270\n",
            "APE mean\t0.0092\t\t0.0157\t\t0.0878\t\t0.0096\n",
            "APE std\t\t0.0093\t\t0.0253\t\t0.1145\t\t0.0103\n",
            "time taken in validatoin of final trained model with training data= 25.38578384199991\n",
            "Error\t\tS11\t\tS22\t\tS12\t\tVM\n",
            "-------------------------------------------------------------------------\n",
            "MAE mean\t2.2446\t\t1.7022\t\t1.3709\t\t1.9692\n",
            "MAE std\t\t1.6373\t\t1.0830\t\t1.1420\t\t1.4467\n",
            "NMAE mean\t0.0099\t\t0.0154\t\t0.1808\t\t0.0098\n",
            "NMAE std\t0.0054\t\t0.0087\t\t5.2034\t\t0.0051\n",
            "AE mean\t\t2.4627\t\t1.9938\t\t1.7038\t\t2.2286\n",
            "AE std\t\t2.7839\t\t2.1688\t\t2.4014\t\t2.6958\n",
            "APE mean\t0.0107\t\t0.0176\t\t0.1889\t\t0.0109\n",
            "APE std\t\t0.0095\t\t0.0164\t\t5.1894\t\t0.0097\n",
            "time taken in validatoin of final trained model with testing data= 22.71284741699992\n",
            "Time taken for this epoch =1737.396102197\n",
            "\n",
            "\n",
            "\n",
            "For epoch[1/3] :\n",
            "Splitting the dataset into training and testing data set\n",
            "Splitting is done. Time taken = 0.0006526140000460146\n",
            "Training the model : \n",
            "Epoch [0/1000], train_loss: 11602.2988\n",
            "Epoch [250/1000], train_loss: 12.8170\n",
            "Epoch [500/1000], train_loss: 7.0852\n",
            "Epoch [750/1000], train_loss: 6.3227\n",
            "Epoch [999/1000], train_loss: 5.3610\n",
            "time taken in trainning the model = 1769.994294051\n",
            "Error\t\tS11\t\tS22\t\tS12\t\tVM\n",
            "-------------------------------------------------------------------------\n",
            "MAE mean\t1.8352\t\t1.3623\t\t1.2089\t\t1.6286\n",
            "MAE std\t\t1.2861\t\t0.7812\t\t0.8679\t\t1.1669\n",
            "NMAE mean\t0.0071\t\t0.0108\t\t0.0510\t\t0.0071\n",
            "NMAE std\t0.0031\t\t0.0048\t\t0.0227\t\t0.0030\n",
            "AE mean\t\t2.5701\t\t2.0067\t\t2.0396\t\t2.3834\n",
            "AE std\t\t3.4705\t\t3.0260\t\t3.1518\t\t3.4472\n",
            "APE mean\t0.0097\t\t0.0156\t\t0.0800\t\t0.0101\n",
            "APE std\t\t0.0104\t\t0.0216\t\t0.1000\t\t0.0112\n",
            "time taken in validatoin of final trained model with training data= 24.17618943100024\n",
            "Error\t\tS11\t\tS22\t\tS12\t\tVM\n",
            "-------------------------------------------------------------------------\n",
            "MAE mean\t1.8669\t\t1.3896\t\t1.2269\t\t1.6434\n",
            "MAE std\t\t1.5357\t\t0.9640\t\t1.0424\t\t1.3806\n",
            "NMAE mean\t0.0088\t\t0.0135\t\t0.6363\t\t0.0087\n",
            "NMAE std\t0.0052\t\t0.0080\t\t100.2531\t\t0.0050\n",
            "AE mean\t\t1.9349\t\t1.5515\t\t1.5620\t\t1.7884\n",
            "AE std\t\t2.5339\t\t1.9639\t\t2.1695\t\t2.4911\n",
            "APE mean\t0.0091\t\t0.0148\t\t0.6443\t\t0.0094\n",
            "APE std\t\t0.0093\t\t0.0159\t\t100.2521\t\t0.0101\n",
            "time taken in validatoin of final trained model with testing data= 22.88172016899989\n",
            "Time taken for this epoch =1817.095676321\n",
            "\n",
            "\n",
            "\n",
            "For epoch[2/3] :\n",
            "Splitting the dataset into training and testing data set\n",
            "Splitting is done. Time taken = 0.0008131829999911133\n",
            "Training the model : \n",
            "Epoch [0/1000], train_loss: 11790.5840\n",
            "Epoch [250/1000], train_loss: 14.8123\n",
            "Epoch [500/1000], train_loss: 9.4156\n",
            "Epoch [750/1000], train_loss: 8.5268\n",
            "Epoch [999/1000], train_loss: 6.7403\n",
            "time taken in trainning the model = 1676.2499197519996\n",
            "Error\t\tS11\t\tS22\t\tS12\t\tVM\n",
            "-------------------------------------------------------------------------\n",
            "MAE mean\t1.7628\t\t1.4718\t\t1.3183\t\t1.5492\n",
            "MAE std\t\t1.5320\t\t0.9100\t\t1.0385\t\t1.3875\n",
            "NMAE mean\t0.0066\t\t0.0114\t\t0.0550\t\t0.0065\n",
            "NMAE std\t0.0034\t\t0.0051\t\t0.0253\t\t0.0032\n",
            "AE mean\t\t2.3610\t\t2.0877\t\t2.2865\t\t2.2124\n",
            "AE std\t\t4.0627\t\t3.4946\t\t3.5621\t\t4.1318\n",
            "APE mean\t0.0086\t\t0.0161\t\t0.0909\t\t0.0090\n",
            "APE std\t\t0.0114\t\t0.0254\t\t0.1225\t\t0.0127\n",
            "time taken in validatoin of final trained model with training data= 22.19238132100054\n",
            "Error\t\tS11\t\tS22\t\tS12\t\tVM\n",
            "-------------------------------------------------------------------------\n",
            "MAE mean\t1.8025\t\t1.4949\t\t1.3404\t\t1.5750\n",
            "MAE std\t\t1.7037\t\t1.0694\t\t1.2100\t\t1.5294\n",
            "NMAE mean\t0.0082\t\t0.0155\t\t0.2645\t\t0.0081\n",
            "NMAE std\t0.0063\t\t0.0742\t\t16.1462\t\t0.0061\n",
            "AE mean\t\t1.9676\t\t1.6932\t\t1.6652\t\t1.8001\n",
            "AE std\t\t2.8881\t\t2.1137\t\t2.4563\t\t2.8912\n",
            "APE mean\t0.0089\t\t0.0169\t\t0.2739\t\t0.0090\n",
            "APE std\t\t0.0107\t\t0.0667\t\t16.1328\t\t0.0113\n",
            "time taken in validatoin of final trained model with testing data= 21.5739166809999\n",
            "Time taken for this epoch =1720.0555181650002\n",
            "\n",
            "\n",
            "\n"
          ]
        }
      ],
      "source": [
        "# number of times training\n",
        "n = 3\n",
        "for i in range(n):\n",
        "\n",
        "    print(\"For epoch[{}/{}] :\".format(i,n))\n",
        "    t_start = time.perf_counter()\n",
        "\n",
        "    # splitting training and testing set\n",
        "    print(\"Splitting the dataset into training and testing data set\")\n",
        "    t1 = time.perf_counter()\n",
        "    train_data, test_data  = random_split(dataset, [656,73])\n",
        "    batch_size_train = 66\n",
        "    batch_size_test = 8\n",
        "    # creating batch \n",
        "    train_loader = DataLoader(train_data, batch_size_train, shuffle=True, num_workers=2, pin_memory=True)\n",
        "    test_loader = DataLoader(test_data, batch_size_test, shuffle=True, num_workers=2, pin_memory=True)\n",
        "    t2 = time.perf_counter()\n",
        "    print(\"Splitting is done. Time taken = {}\".format(t2-t1))\n",
        "\n",
        "    \"\"\"creating the model and training the it\"\"\"\n",
        "    # creating model\n",
        "    model = NonLinearMapping(train_loader)\n",
        "    # training the model\n",
        "    print(\"Training the model : \")\n",
        "    t3 = time.perf_counter()\n",
        "    model.train(1000)\n",
        "    t4 = time.perf_counter()\n",
        "    print('time taken in trainning the model = {}'.format(t4-t3))\n",
        "    # performing validation step\n",
        "    t5 = time.perf_counter()\n",
        "    model.validation_step()\n",
        "    t6 = time.perf_counter()\n",
        "    print('time taken in validatoin of final trained model with training data= {}'.format(t6-t5))\n",
        "    # performing testing step\n",
        "    t7 = time.perf_counter()\n",
        "    model.testing_step(test_loader)\n",
        "    t8 = time.perf_counter()\n",
        "    print('time taken in validatoin of final trained model with testing data= {}'.format(t8-t7))\n",
        "\n",
        "    t_end = time.perf_counter()\n",
        "    print(\"Time taken for this epoch ={}\".format(t_end-t_start))\n",
        "    print(\"\\n\\n\")\n",
        "\n"
      ]
    },
    {
      "cell_type": "code",
      "execution_count": 10,
      "metadata": {
        "id": "-wyhcuoFeryZ"
      },
      "outputs": [],
      "source": []
    }
  ],
  "metadata": {
    "colab": {
      "collapsed_sections": [],
      "name": "sposicated_nonlinear_only.ipynb",
      "provenance": []
    },
    "kernelspec": {
      "display_name": "Python 3",
      "name": "python3"
    },
    "language_info": {
      "name": "python"
    }
  },
  "nbformat": 4,
  "nbformat_minor": 0
}
